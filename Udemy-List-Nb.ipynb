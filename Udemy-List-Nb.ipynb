{
 "cells": [
  {
   "cell_type": "code",
   "execution_count": 1,
   "id": "e0810ef5",
   "metadata": {},
   "outputs": [],
   "source": [
    "# Create an empty list and assign it to the variable \"empty\".\n",
    "empty = []"
   ]
  },
  {
   "cell_type": "code",
   "execution_count": 9,
   "id": "1076b8fa",
   "metadata": {},
   "outputs": [
    {
     "data": {
      "text/plain": [
       "True"
      ]
     },
     "execution_count": 9,
     "metadata": {},
     "output_type": "execute_result"
    }
   ],
   "source": [
    "# Create a list with a single Boolean — True — and assign it to the variable \"active\".\n",
    "active = [True]\n",
    "\"active\" in list"
   ]
  },
  {
   "cell_type": "code",
   "execution_count": 3,
   "id": "e3bf3b27",
   "metadata": {},
   "outputs": [],
   "source": [
    "# Create a list with 5 integers of your choice and assign it to the variable \"favorite_numbers\".\n",
    "favorite_numbers = [2, 4, 6, 8, 10]"
   ]
  },
  {
   "cell_type": "code",
   "execution_count": 26,
   "id": "5a87cd35",
   "metadata": {},
   "outputs": [
    {
     "data": {
      "text/plain": [
       "['red', 'green', 'blue']"
      ]
     },
     "execution_count": 26,
     "metadata": {},
     "output_type": "execute_result"
    }
   ],
   "source": [
    "# Create a list with 3 strings  — \"red\", \"green\", \"blue\" — and assign it to the variable \"colors\".\n",
    "colors = [\"red\", \"green\", \"blue\"]\n",
    "colors"
   ]
  },
  {
   "cell_type": "code",
   "execution_count": 27,
   "id": "bc3204d2",
   "metadata": {},
   "outputs": [
    {
     "data": {
      "text/plain": [
       "3"
      ]
     },
     "execution_count": 27,
     "metadata": {},
     "output_type": "execute_result"
    }
   ],
   "source": [
    "len(colors)"
   ]
  },
  {
   "cell_type": "code",
   "execution_count": 32,
   "id": "a24e977b",
   "metadata": {},
   "outputs": [
    {
     "ename": "SyntaxError",
     "evalue": "invalid syntax (63435333.py, line 3)",
     "output_type": "error",
     "traceback": [
      "\u001b[0;36m  Cell \u001b[0;32mIn[32], line 3\u001b[0;36m\u001b[0m\n\u001b[0;31m    is_long(colors):\u001b[0m\n\u001b[0m                   ^\u001b[0m\n\u001b[0;31mSyntaxError\u001b[0m\u001b[0;31m:\u001b[0m invalid syntax\n"
     ]
    }
   ],
   "source": [
    "# Declare an is_long function that accepts a single list as an argument\n",
    "# It should return True if the list has more than 5 elements, and False otherwise\n",
    "is_long(colors):\n",
    "    len(colors) > 5"
   ]
  },
  {
   "cell_type": "code",
   "execution_count": null,
   "id": "f6552bfc",
   "metadata": {},
   "outputs": [],
   "source": [
    "# Assign a list to a variable (a name) using an equal sign.\n",
    "# Find the length of a list by passing it to the len function.\n",
    "# Use the > symbol (greater than operator) to check if one value is larger than another.\n",
    "def is_long(elements):\n",
    "    return len(elements) > 5"
   ]
  },
  {
   "cell_type": "code",
   "execution_count": null,
   "id": "939ed240",
   "metadata": {},
   "outputs": [],
   "source": []
  }
 ],
 "metadata": {
  "kernelspec": {
   "display_name": "Python 3 (ipykernel)",
   "language": "python",
   "name": "python3"
  },
  "language_info": {
   "codemirror_mode": {
    "name": "ipython",
    "version": 3
   },
   "file_extension": ".py",
   "mimetype": "text/x-python",
   "name": "python",
   "nbconvert_exporter": "python",
   "pygments_lexer": "ipython3",
   "version": "3.11.5"
  }
 },
 "nbformat": 4,
 "nbformat_minor": 5
}
